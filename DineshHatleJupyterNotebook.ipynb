{
  "metadata": {
    "language_info": {
      "codemirror_mode": {
        "name": "python",
        "version": 3
      },
      "file_extension": ".py",
      "mimetype": "text/x-python",
      "name": "python",
      "nbconvert_exporter": "python",
      "pygments_lexer": "ipython3",
      "version": "3.8"
    },
    "kernelspec": {
      "name": "python",
      "display_name": "Pyolite",
      "language": "python"
    }
  },
  "nbformat_minor": 4,
  "nbformat": 4,
  "cells": [
    {
      "cell_type": "code",
      "source": "print(\"My Jupyter Notebook on IBM Watson Studio\")",
      "metadata": {
        "trusted": true
      },
      "execution_count": 1,
      "outputs": [
        {
          "name": "stdout",
          "text": "My Jupyter Notebook on IBM Watson Studio\n",
          "output_type": "stream"
        }
      ]
    },
    {
      "cell_type": "code",
      "source": "print(\"My Name\",'\\033[1m' + 'Dinesh Chandrakant Hatle' + '\\033[0m')\nprint(\"My Occupation :- Senior Data Analyst\")",
      "metadata": {
        "trusted": true
      },
      "execution_count": 3,
      "outputs": [
        {
          "name": "stdout",
          "text": "My Name \u001b[1mDinesh Chandrakant Hatle\u001b[0m\nMy Occupation :- Senior Data Analyst\n",
          "output_type": "stream"
        }
      ]
    },
    {
      "cell_type": "code",
      "source": "print(f'\\033[3mI am interested in data science because I want to become a Data Scientist in the Finance Industry\\033[0m')\nprint(f'\\033[3mI am currently working in Credit Bureau. I have depth knowledge of Banking, Mutual Fund and Insurance Industry. I want to combine this knowledge and the power of Machine Learning with the business requirements to create solution to Banking and Insurance and Mutual Fund Industry.\\033[0m')",
      "metadata": {
        "trusted": true
      },
      "execution_count": 7,
      "outputs": [
        {
          "name": "stdout",
          "text": "\u001b[3mI am interested in data science because I want to become a Data Scientist in the Finance Industry\u001b[0m\n\u001b[3mI am currently working in Credit Bureau. I have depth knowledge of Banking, Mutual Fund and Insurance Industry. I want to combine this knowledge and the power of Machine Learning with the business requirements to create solution to Banking and Insurance and Mutual Fund Industry.\u001b[0m\n",
          "output_type": "stream"
        }
      ]
    },
    {
      "cell_type": "code",
      "source": "# The Python Program to print current date and time \nimport datetime \nMessage = \"Today's Date and Time is \" \nprint (Message , datetime.datetime.now() )",
      "metadata": {
        "trusted": true
      },
      "execution_count": 6,
      "outputs": [
        {
          "name": "stdout",
          "text": "Today's Date and Time is  2022-09-07 18:56:32.808000\n",
          "output_type": "stream"
        }
      ]
    }
  ]
}