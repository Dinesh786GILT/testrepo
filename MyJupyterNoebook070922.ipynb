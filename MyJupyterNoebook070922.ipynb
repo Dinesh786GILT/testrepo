{
 "cells": [
  {
   "cell_type": "code",
   "execution_count": 1,
   "id": "23485986-98e7-4273-8ea3-46631fea5422",
   "metadata": {},
   "outputs": [
    {
     "name": "stdout",
     "output_type": "stream",
     "text": [
      "My Jupyter Notebook on IBM Watson Studio\n"
     ]
    }
   ],
   "source": [
    "print(\"My Jupyter Notebook on IBM Watson Studio\")"
   ]
  },
  {
   "cell_type": "code",
   "execution_count": 2,
   "id": "16e04619-a9c3-49db-a951-cacc41522ef5",
   "metadata": {},
   "outputs": [
    {
     "name": "stdout",
     "output_type": "stream",
     "text": [
      "My Name \u001b[1mDinesh Chandrakant Hatle\u001b[0m\n",
      "My Occupation :- Senior Data Analyst\n"
     ]
    }
   ],
   "source": [
    "print(\"My Name\",'\\033[1m' + 'Dinesh Chandrakant Hatle' + '\\033[0m')\n",
    "print(\"My Occupation :- Senior Data Analyst\")"
   ]
  },
  {
   "cell_type": "code",
   "execution_count": 3,
   "id": "446110b1-bb65-4acc-b97b-6fbcb7da85aa",
   "metadata": {},
   "outputs": [
    {
     "name": "stdout",
     "output_type": "stream",
     "text": [
      "\u001b[3mI am interested in data science because I want to become a Data Scientist in the Finance Industry\u001b[0m\n",
      "\u001b[3mI am currently working in Credit Bureau. I have depth knowledge of Banking, Mutual Fund and Insurance Industry. I want to combine this knowledge and the power of Machine Learning with the business requirements to create solution to Banking and Insurance and Mutual Fund Industry.\u001b[0m\n"
     ]
    }
   ],
   "source": [
    "print(f'\\033[3mI am interested in data science because I want to become a Data Scientist in the Finance Industry\\033[0m')\n",
    "print(f'\\033[3mI am currently working in Credit Bureau. I have depth knowledge of Banking, Mutual Fund and Insurance Industry. I want to combine this knowledge and the power of Machine Learning with the business requirements to create solution to Banking and Insurance and Mutual Fund Industry.\\033[0m')"
   ]
  },
  {
   "cell_type": "code",
   "execution_count": 4,
   "id": "2388353b-6b38-4503-858d-bccdf8a1f1b7",
   "metadata": {},
   "outputs": [
    {
     "name": "stdout",
     "output_type": "stream",
     "text": [
      "The following program will display current date and time.\n"
     ]
    }
   ],
   "source": [
    "# The Following program will display current date and time.\n",
    "print(\"The following program will display current date and time.\")"
   ]
  },
  {
   "cell_type": "code",
   "execution_count": 5,
   "id": "d687cc21-0c3c-4124-928e-b207a695b0f3",
   "metadata": {},
   "outputs": [
    {
     "name": "stdout",
     "output_type": "stream",
     "text": [
      "Current Date and Time is  2022-09-07 17:54:42.378633\n"
     ]
    }
   ],
   "source": [
    "import datetime \n",
    "Message = \"Current Date and Time is \" \n",
    "print (Message, datetime.datetime.now())"
   ]
  },
  {
   "cell_type": "code",
   "execution_count": 6,
   "id": "58548336-c296-4aa1-8162-be63243fcc7c",
   "metadata": {},
   "outputs": [
    {
     "name": "stdout",
     "output_type": "stream",
     "text": [
      "\u001b[1mBulleted List\u001b[0m\n",
      "numbered List 2\n"
     ]
    }
   ],
   "source": [
    "## I like maths\n",
    "print('\\033[1m' + 'Bulleted List' + '\\033[0m')\n",
    "a = 1\n",
    "b = 1\n",
    "c = a+b\n",
    "Message = \"numbered List\"\n",
    "print (Message, c)"
   ]
  }
 ],
 "metadata": {
  "kernelspec": {
   "display_name": "Python",
   "language": "python",
   "name": "conda-env-python-py"
  },
  "language_info": {
   "codemirror_mode": {
    "name": "ipython",
    "version": 3
   },
   "file_extension": ".py",
   "mimetype": "text/x-python",
   "name": "python",
   "nbconvert_exporter": "python",
   "pygments_lexer": "ipython3",
   "version": "3.7.12"
  }
 },
 "nbformat": 4,
 "nbformat_minor": 5
}
