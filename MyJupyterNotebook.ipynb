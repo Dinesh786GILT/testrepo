{
 "cells": [
  {
   "cell_type": "code",
   "execution_count": 1,
   "id": "f39206a9-cadb-4410-ad7b-aacfbdd39c90",
   "metadata": {},
   "outputs": [
    {
     "name": "stdout",
     "output_type": "stream",
     "text": [
      "My Jupyter Notebook on IBM Watson Studio\n"
     ]
    }
   ],
   "source": [
    "print(\"My Jupyter Notebook on IBM Watson Studio\")"
   ]
  },
  {
   "cell_type": "code",
   "execution_count": 2,
   "id": "80bb2fb9-3f64-4306-ac16-f08b9b17e349",
   "metadata": {},
   "outputs": [
    {
     "name": "stdout",
     "output_type": "stream",
     "text": [
      "My Name \u001b[1mDinesh Chandrakant Hatle\u001b[0m\n",
      "My Occupation :- Senior Data Analyst\n"
     ]
    }
   ],
   "source": [
    "print(\"My Name\",'\\033[1m' + 'Dinesh Chandrakant Hatle' + '\\033[0m')\n",
    "print(\"My Occupation :- Senior Data Analyst\")"
   ]
  },
  {
   "cell_type": "code",
   "execution_count": 4,
   "id": "a0cc6b8a-4216-4214-b8cd-2c46285248ec",
   "metadata": {},
   "outputs": [
    {
     "name": "stdout",
     "output_type": "stream",
     "text": [
      "\u001b[3mI am interested in data science because I want to become a Data Scientist in the Finance Industry\u001b[0m\n",
      "\u001b[3mI am currently working in Credit Bureau. I have depth knowledge of Banking, Mutual Fund and Insurance Industry. I want to combine this knowledge and the power of Machine Learning with the business requirements to create solution to Banking and Insurance and Mutual Fund Industry.\u001b[0m\n"
     ]
    }
   ],
   "source": [
    "print(f'\\033[3mI am interested in data science because I want to become a Data Scientist in the Finance Industry\\033[0m')\n",
    "print(f'\\033[3mI am currently working in Credit Bureau. I have depth knowledge of Banking, Mutual Fund and Insurance Industry. I want to combine this knowledge and the power of Machine Learning with the business requirements to create solution to Banking and Insurance and Mutual Fund Industry.\\033[0m')"
   ]
  },
  {
   "cell_type": "code",
   "execution_count": 7,
   "id": "18651033-af8f-4e55-8e69-bf27b9acf4e7",
   "metadata": {},
   "outputs": [
    {
     "name": "stdout",
     "output_type": "stream",
     "text": [
      "The following program will display current date and time.\n"
     ]
    }
   ],
   "source": [
    "# The Following program will display current date and time.\n",
    "print(\"The following program will display current date and time.\")"
   ]
  },
  {
   "cell_type": "code",
   "execution_count": 8,
   "id": "086e7775-46e0-4aee-a105-c15b18a84316",
   "metadata": {},
   "outputs": [
    {
     "name": "stdout",
     "output_type": "stream",
     "text": [
      "Current Date and Time is  2022-09-07 17:27:18.063974\n"
     ]
    }
   ],
   "source": [
    "import datetime \n",
    "Message = \"Current Date and Time is \" \n",
    "print (Message, datetime.datetime.now())"
   ]
  },
  {
   "cell_type": "code",
   "execution_count": 25,
   "id": "5347d66a-3a91-4950-af2a-e9feb48b4f5f",
   "metadata": {},
   "outputs": [
    {
     "name": "stdout",
     "output_type": "stream",
     "text": [
      "\u001b[1mBulleted List\u001b[0m\n",
      "numbered List 2\n"
     ]
    }
   ],
   "source": [
    "## I like maths\n",
    "print('\\033[1m' + 'Bulleted List' + '\\033[0m')\n",
    "a = 1\n",
    "b = 1\n",
    "c = a+b\n",
    "Message = \"numbered List\"\n",
    "print (Message, c)"
   ]
  }
 ],
 "metadata": {
  "kernelspec": {
   "display_name": "Python",
   "language": "python",
   "name": "conda-env-python-py"
  },
  "language_info": {
   "codemirror_mode": {
    "name": "ipython",
    "version": 3
   },
   "file_extension": ".py",
   "mimetype": "text/x-python",
   "name": "python",
   "nbconvert_exporter": "python",
   "pygments_lexer": "ipython3",
   "version": "3.7.12"
  }
 },
 "nbformat": 4,
 "nbformat_minor": 5
}
